{
 "cells": [
  {
   "cell_type": "markdown",
   "id": "a9174c8f",
   "metadata": {},
   "source": [
    "# Assignment1"
   ]
  },
  {
   "cell_type": "code",
   "execution_count": 2,
   "id": "b718dcf0",
   "metadata": {},
   "outputs": [],
   "source": [
    "import numpy as np"
   ]
  },
  {
   "cell_type": "markdown",
   "id": "d1708f26",
   "metadata": {},
   "source": [
    "# Question1"
   ]
  },
  {
   "cell_type": "code",
   "execution_count": 16,
   "id": "8ac22847",
   "metadata": {},
   "outputs": [
    {
     "name": "stdout",
     "output_type": "stream",
     "text": [
      "[ 1  2  3  4  5  6  7  8  9 10]\n",
      "1\n",
      "int32\n",
      "10\n",
      "(10,)\n",
      "<memory at 0x000000581B839340>\n"
     ]
    }
   ],
   "source": [
    "a=np.arange(1,11)\n",
    "print(a)\n",
    "print(a.ndim)\n",
    "print(a.dtype)\n",
    "print(a.size)\n",
    "print(a.shape)\n",
    "print(a.data)"
   ]
  },
  {
   "cell_type": "code",
   "execution_count": 17,
   "id": "81e25206",
   "metadata": {},
   "outputs": [
    {
     "name": "stdout",
     "output_type": "stream",
     "text": [
      "[[1 2 3]\n",
      " [4 5 6]\n",
      " [7 8 9]]\n",
      "2\n",
      "int32\n",
      "9\n",
      "(3, 3)\n",
      "<memory at 0x000000581B829EE0>\n"
     ]
    }
   ],
   "source": [
    "b=np.arange(1,10).reshape(3,3)\n",
    "print(b)\n",
    "print(b.ndim)\n",
    "print(b.dtype)\n",
    "print(b.size)\n",
    "print(b.shape)\n",
    "print(b.data)"
   ]
  },
  {
   "cell_type": "code",
   "execution_count": 18,
   "id": "253f8f84",
   "metadata": {},
   "outputs": [
    {
     "name": "stdout",
     "output_type": "stream",
     "text": [
      "[[[ 1  2  3]\n",
      "  [ 4  5  6]\n",
      "  [ 7  8  9]]\n",
      "\n",
      " [[10 11 12]\n",
      "  [13 14 15]\n",
      "  [16 17 18]]\n",
      "\n",
      " [[19 20 21]\n",
      "  [22 23 24]\n",
      "  [25 26 27]]]\n",
      "3\n",
      "int32\n",
      "27\n",
      "(3, 3, 3)\n",
      "<memory at 0x000000581B845130>\n"
     ]
    }
   ],
   "source": [
    "c=np.arange(1,28).reshape(3,3,3)\n",
    "print(c)\n",
    "print(c.ndim)\n",
    "print(c.dtype)\n",
    "print(c.size)\n",
    "print(c.shape)\n",
    "print(c.data)\n"
   ]
  },
  {
   "cell_type": "code",
   "execution_count": 20,
   "id": "5f971047",
   "metadata": {},
   "outputs": [
    {
     "name": "stdout",
     "output_type": "stream",
     "text": [
      "===========================================================================\n"
     ]
    }
   ],
   "source": [
    "print(\"=\"*75)"
   ]
  },
  {
   "cell_type": "markdown",
   "id": "be43ae60",
   "metadata": {},
   "source": [
    "# Question 2"
   ]
  },
  {
   "cell_type": "code",
   "execution_count": 22,
   "id": "d755bb4d",
   "metadata": {},
   "outputs": [
    {
     "name": "stdout",
     "output_type": "stream",
     "text": [
      "[[ 1  2  3  4  5]\n",
      " [ 6  7  8  9 10]\n",
      " [11 12 13 14 15]]\n"
     ]
    }
   ],
   "source": [
    "b=np.arange(1,16).reshape(3,5)\n",
    "print(b)\n"
   ]
  },
  {
   "cell_type": "code",
   "execution_count": 27,
   "id": "718ae211",
   "metadata": {},
   "outputs": [
    {
     "name": "stdout",
     "output_type": "stream",
     "text": [
      "[[4.67296746e-307 1.69121096e-306 1.29061074e-306 8.34441742e-308\n",
      "  1.78022342e-306]\n",
      " [6.23058028e-307 9.79107872e-307 6.89807188e-307 7.56594375e-307\n",
      "  6.23060065e-307]\n",
      " [1.78021527e-306 8.34454050e-308 1.11261027e-306 2.04712907e-306\n",
      "  3.49698923e-317]]\n"
     ]
    }
   ],
   "source": [
    "b=np.empty((3,5))\n",
    "print(b)\n"
   ]
  },
  {
   "cell_type": "code",
   "execution_count": 29,
   "id": "c9f53fcc",
   "metadata": {},
   "outputs": [
    {
     "name": "stdout",
     "output_type": "stream",
     "text": [
      "[[2 2 2 2 2]\n",
      " [2 2 2 2 2]\n",
      " [2 2 2 2 2]]\n"
     ]
    }
   ],
   "source": [
    "a=np.full((3,5),2)\n",
    "print(a)\n"
   ]
  },
  {
   "cell_type": "code",
   "execution_count": 36,
   "id": "a43a6a24",
   "metadata": {},
   "outputs": [
    {
     "name": "stdout",
     "output_type": "stream",
     "text": [
      "[[0 0 0 0 0]\n",
      " [0 0 0 0 0]\n",
      " [0 0 0 0 0]]\n"
     ]
    }
   ],
   "source": [
    "a=np.zeros((3,5),dtype=int)\n",
    "print(a)"
   ]
  },
  {
   "cell_type": "code",
   "execution_count": 39,
   "id": "eadd2c8b",
   "metadata": {},
   "outputs": [
    {
     "name": "stdout",
     "output_type": "stream",
     "text": [
      "[[1 1 1 1 1]\n",
      " [1 1 1 1 1]\n",
      " [1 1 1 1 1]]\n"
     ]
    }
   ],
   "source": [
    "a=np.ones((3,5),dtype=int)\n",
    "print(a)"
   ]
  },
  {
   "cell_type": "code",
   "execution_count": 40,
   "id": "3e35b071",
   "metadata": {},
   "outputs": [
    {
     "name": "stdout",
     "output_type": "stream",
     "text": [
      "===========================================================================\n"
     ]
    }
   ],
   "source": [
    "print(\"=\"*75)"
   ]
  },
  {
   "cell_type": "markdown",
   "id": "0e024b27",
   "metadata": {},
   "source": [
    "# Question 3"
   ]
  },
  {
   "cell_type": "code",
   "execution_count": 41,
   "id": "e7be04cb",
   "metadata": {},
   "outputs": [
    {
     "name": "stdout",
     "output_type": "stream",
     "text": [
      "[14 15 16 17 18 19 20 21 22 23 24 25 26 27 28 29 30 31 32 33 34 35 36 37\n",
      " 38 39 40]\n"
     ]
    }
   ],
   "source": [
    "d=np.arange(14,41)\n",
    "print(d)"
   ]
  },
  {
   "cell_type": "code",
   "execution_count": 42,
   "id": "63be4843",
   "metadata": {},
   "outputs": [
    {
     "name": "stdout",
     "output_type": "stream",
     "text": [
      "[[14 15 16 17 18 19 20 21 22]\n",
      " [23 24 25 26 27 28 29 30 31]\n",
      " [32 33 34 35 36 37 38 39 40]]\n"
     ]
    }
   ],
   "source": [
    "print(d.reshape(3,9))"
   ]
  },
  {
   "cell_type": "code",
   "execution_count": 44,
   "id": "f419dd09",
   "metadata": {},
   "outputs": [
    {
     "name": "stdout",
     "output_type": "stream",
     "text": [
      "===========================================================================\n"
     ]
    }
   ],
   "source": [
    "print(\"=\"*75)\n"
   ]
  },
  {
   "cell_type": "markdown",
   "id": "66bc847f",
   "metadata": {},
   "source": [
    "# Question 4"
   ]
  },
  {
   "cell_type": "code",
   "execution_count": 3,
   "id": "6fe9d375",
   "metadata": {},
   "outputs": [
    {
     "name": "stdout",
     "output_type": "stream",
     "text": [
      "[[ 1  2  3  4  5]\n",
      " [ 6  7  8  9 10]\n",
      " [11 12 13 14 15]\n",
      " [16 17 18 19 20]\n",
      " [21 22 23 24 25]\n",
      " [26 27 28 29 30]\n",
      " [31 32 33 34 35]\n",
      " [36 37 38 39 40]]\n"
     ]
    }
   ],
   "source": [
    "a=np.arange(1,41).reshape(8,5)\n",
    "print(a)\n"
   ]
  },
  {
   "cell_type": "code",
   "execution_count": 4,
   "id": "2ccb9d09",
   "metadata": {},
   "outputs": [
    {
     "name": "stdout",
     "output_type": "stream",
     "text": [
      "===========================================================================\n"
     ]
    }
   ],
   "source": [
    "print(\"=\"*75)"
   ]
  },
  {
   "cell_type": "markdown",
   "id": "5bbd6112",
   "metadata": {},
   "source": [
    "# Question 5,6"
   ]
  },
  {
   "cell_type": "code",
   "execution_count": 7,
   "id": "f9b02146",
   "metadata": {},
   "outputs": [
    {
     "name": "stdout",
     "output_type": "stream",
     "text": [
      "[[ 1  2  3  4  5  6  7  8  9 10]\n",
      " [11 12 13 14 15 16 17 18 19 20]\n",
      " [21 22 23 24 25 26 27 28 29 30]\n",
      " [31 32 33 34 35 36 37 38 39 40]]\n"
     ]
    }
   ],
   "source": [
    "print(a)"
   ]
  },
  {
   "cell_type": "code",
   "execution_count": 19,
   "id": "031ac388",
   "metadata": {},
   "outputs": [
    {
     "ename": "ValueError",
     "evalue": "resize only works on single-segment arrays",
     "output_type": "error",
     "traceback": [
      "\u001b[1;31m---------------------------------------------------------------------------\u001b[0m",
      "\u001b[1;31mValueError\u001b[0m                                Traceback (most recent call last)",
      "\u001b[1;32m~\\AppData\\Local\\Temp\\ipykernel_4948\\2174812362.py\u001b[0m in \u001b[0;36m<module>\u001b[1;34m\u001b[0m\n\u001b[1;32m----> 1\u001b[1;33m \u001b[0ma\u001b[0m\u001b[1;33m.\u001b[0m\u001b[0mresize\u001b[0m\u001b[1;33m(\u001b[0m\u001b[1;36m4\u001b[0m\u001b[1;33m,\u001b[0m\u001b[1;36m10\u001b[0m\u001b[1;33m)\u001b[0m\u001b[1;33m\u001b[0m\u001b[1;33m\u001b[0m\u001b[0m\n\u001b[0m\u001b[0;32m      2\u001b[0m \u001b[0mprint\u001b[0m\u001b[1;33m(\u001b[0m\u001b[0ma\u001b[0m\u001b[1;33m)\u001b[0m\u001b[1;33m\u001b[0m\u001b[1;33m\u001b[0m\u001b[0m\n",
      "\u001b[1;31mValueError\u001b[0m: resize only works on single-segment arrays"
     ]
    }
   ],
   "source": [
    "a.resize(4,10)\n",
    "print(a)"
   ]
  },
  {
   "cell_type": "code",
   "execution_count": 12,
   "id": "dd204c36",
   "metadata": {},
   "outputs": [
    {
     "name": "stdout",
     "output_type": "stream",
     "text": [
      "[[ 1  2  3  4]\n",
      " [11 12 13 14]\n",
      " [21 22 23 24]]\n"
     ]
    }
   ],
   "source": [
    "e=a[0:3,0:4]\n",
    "print(e)"
   ]
  },
  {
   "cell_type": "code",
   "execution_count": 16,
   "id": "9487d8a2",
   "metadata": {},
   "outputs": [
    {
     "name": "stdout",
     "output_type": "stream",
     "text": [
      "[[ 1  2  3  4]\n",
      " [11 12 13 14]\n",
      " [21 22 23 24]]\n"
     ]
    }
   ],
   "source": [
    "\n",
    "print(a)"
   ]
  },
  {
   "cell_type": "code",
   "execution_count": 20,
   "id": "d0d145a0",
   "metadata": {},
   "outputs": [
    {
     "name": "stdout",
     "output_type": "stream",
     "text": [
      "[[ 1  2  3  4  5  6  7  8  9 10]\n",
      " [11 12 13 14 15 16 17 18 19 20]\n",
      " [21 22 23 24 25 26 27 28 29 30]\n",
      " [31 32 33 34 35 36 37 38 39 40]]\n"
     ]
    }
   ],
   "source": [
    "a=np.arange(1,41).reshape(8,5)\n",
    "a.resize(4,10)\n",
    "print(a)"
   ]
  },
  {
   "cell_type": "code",
   "execution_count": 24,
   "id": "af82b8bb",
   "metadata": {},
   "outputs": [
    {
     "name": "stdout",
     "output_type": "stream",
     "text": [
      "[ 5 15 25 35]\n"
     ]
    }
   ],
   "source": [
    "\n",
    "g=a[0:4,4]\n",
    "print(g)"
   ]
  },
  {
   "cell_type": "code",
   "execution_count": 25,
   "id": "69401a71",
   "metadata": {},
   "outputs": [
    {
     "name": "stdout",
     "output_type": "stream",
     "text": [
      "[[ 1  2  3  4  5  6  7  8  9 10]\n",
      " [11 12 13 14 15 16 17 18 19 20]\n",
      " [21 22 23 24 25 26 27 28 29 30]\n",
      " [31 32 33 34 35 36 37 38 39 40]]\n"
     ]
    }
   ],
   "source": [
    "print(a)"
   ]
  },
  {
   "cell_type": "code",
   "execution_count": 26,
   "id": "82004dbe",
   "metadata": {},
   "outputs": [
    {
     "name": "stdout",
     "output_type": "stream",
     "text": [
      "[[21 22 23 24 25 26 27 28 29 30]\n",
      " [31 32 33 34 35 36 37 38 39 40]]\n"
     ]
    }
   ],
   "source": [
    "h=a[2:]\n",
    "print(h)"
   ]
  },
  {
   "cell_type": "code",
   "execution_count": 27,
   "id": "35c56fb0",
   "metadata": {},
   "outputs": [
    {
     "name": "stdout",
     "output_type": "stream",
     "text": [
      "[[ 1  2  3  4  5  6  7  8  9 10]\n",
      " [11 12 13 14 15 16 17 18 19 20]\n",
      " [21 22 23 24 25 26 27 28 29 30]\n",
      " [31 32 33 34 35 36 37 38 39 40]]\n"
     ]
    }
   ],
   "source": [
    "print(a)"
   ]
  },
  {
   "cell_type": "code",
   "execution_count": 29,
   "id": "4ba4123f",
   "metadata": {},
   "outputs": [
    {
     "name": "stdout",
     "output_type": "stream",
     "text": [
      "[[ 3  4  5]\n",
      " [13 14 15]\n",
      " [23 24 25]\n",
      " [33 34 35]]\n"
     ]
    }
   ],
   "source": [
    "i=a[:,2:5]\n",
    "print(i)"
   ]
  },
  {
   "cell_type": "code",
   "execution_count": 30,
   "id": "edbbc94c",
   "metadata": {},
   "outputs": [
    {
     "name": "stdout",
     "output_type": "stream",
     "text": [
      "===========================================================================\n"
     ]
    }
   ],
   "source": [
    "print(\"=\"*75)"
   ]
  },
  {
   "cell_type": "markdown",
   "id": "62f8e76f",
   "metadata": {},
   "source": [
    "# Question7"
   ]
  },
  {
   "cell_type": "code",
   "execution_count": 31,
   "id": "93c21a78",
   "metadata": {},
   "outputs": [
    {
     "name": "stdout",
     "output_type": "stream",
     "text": [
      "[[ 1  2  3  4  5  6  7  8  9 10]\n",
      " [11 12 13 14 15 16 17 18 19 20]\n",
      " [21 22 23 24 25 26 27 28 29 30]\n",
      " [31 32 33 34 35 36 37 38 39 40]]\n"
     ]
    }
   ],
   "source": [
    "print(a)"
   ]
  },
  {
   "cell_type": "code",
   "execution_count": 34,
   "id": "d36b884f",
   "metadata": {},
   "outputs": [
    {
     "name": "stdout",
     "output_type": "stream",
     "text": [
      "[ 1  3  5  7  9 11 13 15 17 19 21 23 25 27 29 31 33 35 37 39]\n"
     ]
    }
   ],
   "source": [
    "j=a[a%2==1]\n",
    "print(j)"
   ]
  },
  {
   "cell_type": "code",
   "execution_count": 35,
   "id": "d4c713a8",
   "metadata": {},
   "outputs": [
    {
     "name": "stdout",
     "output_type": "stream",
     "text": [
      "===========================================================================\n"
     ]
    }
   ],
   "source": [
    "print(\"=\"*75)"
   ]
  },
  {
   "cell_type": "markdown",
   "id": "27357d11",
   "metadata": {},
   "source": [
    "# Question8"
   ]
  },
  {
   "cell_type": "code",
   "execution_count": 36,
   "id": "1c0c60e3",
   "metadata": {
    "scrolled": true
   },
   "outputs": [
    {
     "name": "stdout",
     "output_type": "stream",
     "text": [
      "[[ 1  2  3  4  5  6  7  8  9 10]\n",
      " [11 12 13 14 15 16 17 18 19 20]\n",
      " [21 22 23 24 25 26 27 28 29 30]\n",
      " [31 32 33 34 35 36 37 38 39 40]]\n"
     ]
    }
   ],
   "source": [
    "print(a)"
   ]
  },
  {
   "cell_type": "code",
   "execution_count": 48,
   "id": "b98edd61",
   "metadata": {},
   "outputs": [
    {
     "name": "stdout",
     "output_type": "stream",
     "text": [
      "[[ 1 -1  3 -1  5 -1  7 -1  9 -1]\n",
      " [11 -1 13 -1 15 -1 17 -1 19 -1]\n",
      " [21 -1 23 -1 25 -1 27 -1 29 -1]\n",
      " [31 -1 33 -1 35 -1 37 -1 39 -1]]\n"
     ]
    }
   ],
   "source": [
    "a[a%2==0]=-1\n",
    "print(a)"
   ]
  },
  {
   "cell_type": "code",
   "execution_count": 49,
   "id": "5880c491",
   "metadata": {},
   "outputs": [
    {
     "name": "stdout",
     "output_type": "stream",
     "text": [
      "[[ 1 -1  3 -1  5 -1  7 -1  9 -1]\n",
      " [11 -1 13 -1 15 -1 17 -1 19 -1]\n",
      " [21 -1 23 -1 25 -1 27 -1 29 -1]\n",
      " [31 -1 33 -1 35 -1 37 -1 39 -1]]\n"
     ]
    }
   ],
   "source": [
    "print(a)\n"
   ]
  },
  {
   "cell_type": "code",
   "execution_count": 52,
   "id": "12083b20",
   "metadata": {},
   "outputs": [
    {
     "name": "stdout",
     "output_type": "stream",
     "text": [
      "===========================================================================\n"
     ]
    }
   ],
   "source": [
    "print(\"=\"*75)"
   ]
  },
  {
   "cell_type": "markdown",
   "id": "dcd1dcab",
   "metadata": {},
   "source": [
    "# Question9"
   ]
  },
  {
   "cell_type": "code",
   "execution_count": 50,
   "id": "64b5c382",
   "metadata": {},
   "outputs": [
    {
     "name": "stdout",
     "output_type": "stream",
     "text": [
      "[ 1  2  3  4  5  6  7  8  9 10]\n",
      "[11 12 13 14 15 16 17 18 19 20]\n"
     ]
    }
   ],
   "source": [
    "m=np.arange(1,11)\n",
    "n=np.arange(11,21)\n",
    "print(m)\n",
    "print(n)"
   ]
  },
  {
   "cell_type": "code",
   "execution_count": 51,
   "id": "c5a21dfc",
   "metadata": {},
   "outputs": [
    {
     "name": "stdout",
     "output_type": "stream",
     "text": [
      "[ 1  2  3  4  5  6  7  8  9 10 11 12 13 14 15 16 17 18 19 20]\n"
     ]
    }
   ],
   "source": [
    "a1=np.append(m,n)\n",
    "print(a1)"
   ]
  },
  {
   "cell_type": "code",
   "execution_count": 53,
   "id": "b8740a04",
   "metadata": {},
   "outputs": [
    {
     "name": "stdout",
     "output_type": "stream",
     "text": [
      "===========================================================================\n"
     ]
    }
   ],
   "source": [
    "print(\"=\"*75)"
   ]
  },
  {
   "cell_type": "markdown",
   "id": "321e00e0",
   "metadata": {},
   "source": [
    "# Question10"
   ]
  },
  {
   "cell_type": "code",
   "execution_count": 57,
   "id": "af2497d1",
   "metadata": {},
   "outputs": [
    {
     "name": "stdout",
     "output_type": "stream",
     "text": [
      "[[ 1  2  3  4  5  6  7  8]\n",
      " [ 9 10 11 12 13 14 15 16]]\n"
     ]
    }
   ],
   "source": [
    "a2=np.arange(1,17).reshape(2,8)\n",
    "print(a2)"
   ]
  },
  {
   "cell_type": "code",
   "execution_count": 58,
   "id": "ca6baf8c",
   "metadata": {},
   "outputs": [
    {
     "name": "stdout",
     "output_type": "stream",
     "text": [
      "===========================================================================\n"
     ]
    }
   ],
   "source": [
    "print(\"=\"*75)"
   ]
  },
  {
   "cell_type": "markdown",
   "id": "e0be92d2",
   "metadata": {},
   "source": [
    "# Question11"
   ]
  },
  {
   "cell_type": "code",
   "execution_count": 59,
   "id": "d9bb4ed0",
   "metadata": {},
   "outputs": [
    {
     "name": "stdout",
     "output_type": "stream",
     "text": [
      "[19 34 19 28 31 26 27 18 30 21 35 31]\n"
     ]
    }
   ],
   "source": [
    "a3=np.random.randint(13,40,12)\n",
    "print(a3)"
   ]
  },
  {
   "cell_type": "code",
   "execution_count": 60,
   "id": "f821b4cf",
   "metadata": {},
   "outputs": [
    {
     "name": "stdout",
     "output_type": "stream",
     "text": [
      "[18 19 19 21 26 27 28 30 31 31 34 35]\n"
     ]
    }
   ],
   "source": [
    "a4=np.sort(a3)\n",
    "print(a4)                                      #ascending order"
   ]
  },
  {
   "cell_type": "code",
   "execution_count": 61,
   "id": "5d1b3989",
   "metadata": {},
   "outputs": [
    {
     "name": "stdout",
     "output_type": "stream",
     "text": [
      "[35 34 31 31 30 28 27 26 21 19 19 18]\n"
     ]
    }
   ],
   "source": [
    "a5=a4[: :-1]                                     #descending order\n",
    "print(a5)"
   ]
  },
  {
   "cell_type": "code",
   "execution_count": 63,
   "id": "b0014768",
   "metadata": {},
   "outputs": [
    {
     "name": "stdout",
     "output_type": "stream",
     "text": [
      "===========================================================================\n"
     ]
    }
   ],
   "source": [
    "print(\"=\"*75)"
   ]
  },
  {
   "cell_type": "markdown",
   "id": "82e3e208",
   "metadata": {},
   "source": [
    "# Question12"
   ]
  },
  {
   "cell_type": "code",
   "execution_count": 77,
   "id": "64e6a815",
   "metadata": {},
   "outputs": [
    {
     "name": "stdout",
     "output_type": "stream",
     "text": [
      "[[ 1  2  3]\n",
      " [ 4  5  6]\n",
      " [ 7  8  9]\n",
      " [10 11 12]\n",
      " [13 14 15]]\n",
      "===========================================================================\n",
      "[[ 5  6  7]\n",
      " [ 8  9 10]\n",
      " [11 12 13]\n",
      " [14 15 16]\n",
      " [17 18 19]]\n",
      "===========================================================================\n",
      "[[ 2  4  6]\n",
      " [ 8 10 12]\n",
      " [14 16 18]\n",
      " [20 22 24]\n",
      " [26 28 30]]\n",
      "===========================================================================\n",
      "[[-2 -1  0]\n",
      " [ 1  2  3]\n",
      " [ 4  5  6]\n",
      " [ 7  8  9]\n",
      " [10 11 12]]\n",
      "===========================================================================\n",
      "[[0.5 1.  1.5]\n",
      " [2.  2.5 3. ]\n",
      " [3.5 4.  4.5]\n",
      " [5.  5.5 6. ]\n",
      " [6.5 7.  7.5]]\n"
     ]
    }
   ],
   "source": [
    "g=np.arange(1,16).reshape(5,3)\n",
    "print(g)\n",
    "print(\"=\"*75)\n",
    "print(g+4)                 #addition\n",
    "print(\"=\"*75)\n",
    "print(g*2)                 #multiplication\n",
    "print(\"=\"*75)\n",
    "print(g-3)                 #subtraction\n",
    "print(\"=\"*75)\n",
    "print(g/2)                #divison"
   ]
  },
  {
   "cell_type": "code",
   "execution_count": 78,
   "id": "c5380f52",
   "metadata": {},
   "outputs": [
    {
     "name": "stdout",
     "output_type": "stream",
     "text": [
      "===========================================================================\n",
      "===========================================================================\n"
     ]
    }
   ],
   "source": [
    "print(\"=\"*75)\n",
    "print(\"=\"*75)"
   ]
  },
  {
   "cell_type": "markdown",
   "id": "e8d7cb02",
   "metadata": {},
   "source": [
    "# Question13"
   ]
  },
  {
   "cell_type": "code",
   "execution_count": 80,
   "id": "50a6c5d3",
   "metadata": {},
   "outputs": [
    {
     "name": "stdout",
     "output_type": "stream",
     "text": [
      "[[1 2 3]\n",
      " [4 5 6]\n",
      " [7 8 9]]\n"
     ]
    }
   ],
   "source": [
    "m=np.arange(1,10).reshape(3,3)\n",
    "print(m)"
   ]
  },
  {
   "cell_type": "code",
   "execution_count": 83,
   "id": "998b121b",
   "metadata": {},
   "outputs": [
    {
     "name": "stdout",
     "output_type": "stream",
     "text": [
      "[[1 2 3]\n",
      " [4 5 6]\n",
      " [7 8 9]]\n",
      "[[ 2  4  6]\n",
      " [ 8 10 12]\n",
      " [14 16 18]]\n"
     ]
    }
   ],
   "source": [
    "v=np.arange(1,10).reshape(3,3)\n",
    "print(v)\n",
    "c=m+v\n",
    "print(c)"
   ]
  },
  {
   "cell_type": "code",
   "execution_count": 85,
   "id": "10f4ce90",
   "metadata": {},
   "outputs": [
    {
     "name": "stdout",
     "output_type": "stream",
     "text": [
      "[[ 1  4  9]\n",
      " [16 25 36]\n",
      " [49 64 81]]\n"
     ]
    }
   ],
   "source": [
    "d=m*v\n",
    "print(d)"
   ]
  },
  {
   "cell_type": "code",
   "execution_count": 87,
   "id": "adf7dc8a",
   "metadata": {},
   "outputs": [
    {
     "name": "stdout",
     "output_type": "stream",
     "text": [
      "[[0 0 0]\n",
      " [0 0 0]\n",
      " [0 0 0]]\n"
     ]
    }
   ],
   "source": [
    "s=m-v\n",
    "print(s)"
   ]
  },
  {
   "cell_type": "code",
   "execution_count": 90,
   "id": "19004451",
   "metadata": {},
   "outputs": [
    {
     "name": "stdout",
     "output_type": "stream",
     "text": [
      "[[1 2 3]\n",
      " [4 5 6]\n",
      " [7 8 9]]\n",
      "[[1 2 3]\n",
      " [4 5 6]\n",
      " [7 8 9]]\n",
      "[[ 30  36  42]\n",
      " [ 66  81  96]\n",
      " [102 126 150]]\n"
     ]
    }
   ],
   "source": [
    "y=m.dot(v)\n",
    "print(m)\n",
    "print(v)\n",
    "print(y)"
   ]
  },
  {
   "cell_type": "code",
   "execution_count": 92,
   "id": "417dcc0a",
   "metadata": {},
   "outputs": [
    {
     "name": "stdout",
     "output_type": "stream",
     "text": [
      "[[1. 1. 1.]\n",
      " [1. 1. 1.]\n",
      " [1. 1. 1.]]\n"
     ]
    }
   ],
   "source": [
    "d=m/v\n",
    "print(d)"
   ]
  },
  {
   "cell_type": "code",
   "execution_count": 95,
   "id": "d49ed089",
   "metadata": {},
   "outputs": [
    {
     "name": "stdout",
     "output_type": "stream",
     "text": [
      "729\n",
      "30\n",
      "150\n"
     ]
    }
   ],
   "source": [
    "print(y.sum())\n",
    "print(y.min())\n",
    "print(y.max())"
   ]
  },
  {
   "cell_type": "code",
   "execution_count": 104,
   "id": "641ace33",
   "metadata": {},
   "outputs": [
    {
     "name": "stdout",
     "output_type": "stream",
     "text": [
      "[198 243 288]\n",
      "[30 36 42]\n",
      "[102 126 150]\n"
     ]
    }
   ],
   "source": [
    "print(y.sum(axis=0))\n",
    "print(y.min(axis=0))\n",
    "print(y.max(axis=0))\n",
    "            "
   ]
  },
  {
   "cell_type": "code",
   "execution_count": 105,
   "id": "dab7f60e",
   "metadata": {},
   "outputs": [
    {
     "name": "stdout",
     "output_type": "stream",
     "text": [
      "[108 243 378]\n",
      "[ 30  66 102]\n",
      "[ 42  96 150]\n"
     ]
    }
   ],
   "source": [
    "print(y.sum(axis=1))\n",
    "print(y.min(axis=1))\n",
    "print(y.max(axis=1))"
   ]
  },
  {
   "cell_type": "code",
   "execution_count": null,
   "id": "81b96537",
   "metadata": {},
   "outputs": [],
   "source": []
  }
 ],
 "metadata": {
  "kernelspec": {
   "display_name": "Python 3 (ipykernel)",
   "language": "python",
   "name": "python3"
  },
  "language_info": {
   "codemirror_mode": {
    "name": "ipython",
    "version": 3
   },
   "file_extension": ".py",
   "mimetype": "text/x-python",
   "name": "python",
   "nbconvert_exporter": "python",
   "pygments_lexer": "ipython3",
   "version": "3.9.13"
  }
 },
 "nbformat": 4,
 "nbformat_minor": 5
}
